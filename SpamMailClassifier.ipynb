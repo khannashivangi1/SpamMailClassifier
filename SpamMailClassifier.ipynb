{
 "cells": [
  {
   "cell_type": "markdown",
   "metadata": {},
   "source": [
    "# Spam Mail Classifier"
   ]
  },
  {
   "cell_type": "code",
   "execution_count": 1,
   "metadata": {},
   "outputs": [],
   "source": [
    "# Importing the required packages\n",
    "import numpy as np\n",
    "import pandas as pd\n",
    "\n",
    "import nltk\n",
    "import matplotlib.pyplot as plt\n",
    "from nltk.stem import SnowballStemmer\n",
    "from nltk.corpus import stopwords\n",
    "from nltk.tokenize import word_tokenize\n",
    "\n",
    "from bs4 import BeautifulSoup\n",
    "\n",
    "from sklearn.feature_extraction.text import CountVectorizer\n",
    "from sklearn.model_selection import train_test_split\n",
    "from sklearn.naive_bayes import MultinomialNB\n",
    "\n",
    "from sklearn import metrics\n",
    "\n",
    "import warnings\n",
    "warnings.filterwarnings(\"ignore\", category=UserWarning, module='bs4')"
   ]
  },
  {
   "cell_type": "markdown",
   "metadata": {},
   "source": [
    "### About the data\n",
    "This dataset consists of raw mail classified as whether they are spam or not. I will be using this data to make a model to predict if a mail is spam or not. "
   ]
  },
  {
   "cell_type": "code",
   "execution_count": 2,
   "metadata": {},
   "outputs": [],
   "source": [
    "# Importing data\n",
    "data = pd.read_csv(\"nlpdata.csv\")"
   ]
  },
  {
   "cell_type": "code",
   "execution_count": 3,
   "metadata": {},
   "outputs": [
    {
     "data": {
      "text/html": [
       "<div>\n",
       "<style scoped>\n",
       "    .dataframe tbody tr th:only-of-type {\n",
       "        vertical-align: middle;\n",
       "    }\n",
       "\n",
       "    .dataframe tbody tr th {\n",
       "        vertical-align: top;\n",
       "    }\n",
       "\n",
       "    .dataframe thead th {\n",
       "        text-align: right;\n",
       "    }\n",
       "</style>\n",
       "<table border=\"1\" class=\"dataframe\">\n",
       "  <thead>\n",
       "    <tr style=\"text-align: right;\">\n",
       "      <th></th>\n",
       "      <th>CATEGORY</th>\n",
       "      <th>MESSAGE</th>\n",
       "      <th>FILE_NAME</th>\n",
       "    </tr>\n",
       "  </thead>\n",
       "  <tbody>\n",
       "    <tr>\n",
       "      <th>0</th>\n",
       "      <td>1</td>\n",
       "      <td>Dear Homeowner,\\n\\n \\n\\nInterest Rates are at ...</td>\n",
       "      <td>00249.5f45607c1bffe89f60ba1ec9f878039a</td>\n",
       "    </tr>\n",
       "    <tr>\n",
       "      <th>1</th>\n",
       "      <td>1</td>\n",
       "      <td>ATTENTION: This is a MUST for ALL Computer Use...</td>\n",
       "      <td>00373.ebe8670ac56b04125c25100a36ab0510</td>\n",
       "    </tr>\n",
       "    <tr>\n",
       "      <th>2</th>\n",
       "      <td>1</td>\n",
       "      <td>This is a multi-part message in MIME format.\\n...</td>\n",
       "      <td>00214.1367039e50dc6b7adb0f2aa8aba83216</td>\n",
       "    </tr>\n",
       "    <tr>\n",
       "      <th>3</th>\n",
       "      <td>1</td>\n",
       "      <td>IMPORTANT INFORMATION:\\n\\n\\n\\nThe new domain n...</td>\n",
       "      <td>00210.050ffd105bd4e006771ee63cabc59978</td>\n",
       "    </tr>\n",
       "    <tr>\n",
       "      <th>4</th>\n",
       "      <td>1</td>\n",
       "      <td>This is the bottom line.  If you can GIVE AWAY...</td>\n",
       "      <td>00033.9babb58d9298daa2963d4f514193d7d6</td>\n",
       "    </tr>\n",
       "    <tr>\n",
       "      <th>5</th>\n",
       "      <td>1</td>\n",
       "      <td>------=_NextPart_000_00B8_51E06B6A.C8586B31\\n\\...</td>\n",
       "      <td>00187.efd97ab2034b3384606e21db00014ecb</td>\n",
       "    </tr>\n",
       "    <tr>\n",
       "      <th>6</th>\n",
       "      <td>1</td>\n",
       "      <td>&lt;STYLE type=\"text/css\"&gt;\\n\\n&lt;!--\\n\\nP{\\n\\n  fon...</td>\n",
       "      <td>00500.85b72f09f6778a085dc8b6821965a76f</td>\n",
       "    </tr>\n",
       "    <tr>\n",
       "      <th>7</th>\n",
       "      <td>1</td>\n",
       "      <td>&lt;HR&gt;\\n\\n&lt;html&gt;\\n\\n&lt;head&gt;\\n\\n  &lt;title&gt;Secured I...</td>\n",
       "      <td>00493.1c5f59825f7a246187c137614fb1ea82</td>\n",
       "    </tr>\n",
       "    <tr>\n",
       "      <th>8</th>\n",
       "      <td>1</td>\n",
       "      <td>&lt;table width=\"600\" border=\"20\" align=\"center\" ...</td>\n",
       "      <td>00012.381e4f512915109ba1e0853a7a8407b2</td>\n",
       "    </tr>\n",
       "    <tr>\n",
       "      <th>9</th>\n",
       "      <td>1</td>\n",
       "      <td>&lt;html&gt;\\n\\n\\n\\n&lt;head&gt;\\n\\n&lt;meta http-equiv=\"Cont...</td>\n",
       "      <td>00487.139a2f4e8edbbdd64441536308169d74</td>\n",
       "    </tr>\n",
       "  </tbody>\n",
       "</table>\n",
       "</div>"
      ],
      "text/plain": [
       "   CATEGORY                                            MESSAGE  \\\n",
       "0         1  Dear Homeowner,\\n\\n \\n\\nInterest Rates are at ...   \n",
       "1         1  ATTENTION: This is a MUST for ALL Computer Use...   \n",
       "2         1  This is a multi-part message in MIME format.\\n...   \n",
       "3         1  IMPORTANT INFORMATION:\\n\\n\\n\\nThe new domain n...   \n",
       "4         1  This is the bottom line.  If you can GIVE AWAY...   \n",
       "5         1  ------=_NextPart_000_00B8_51E06B6A.C8586B31\\n\\...   \n",
       "6         1  <STYLE type=\"text/css\">\\n\\n<!--\\n\\nP{\\n\\n  fon...   \n",
       "7         1  <HR>\\n\\n<html>\\n\\n<head>\\n\\n  <title>Secured I...   \n",
       "8         1  <table width=\"600\" border=\"20\" align=\"center\" ...   \n",
       "9         1  <html>\\n\\n\\n\\n<head>\\n\\n<meta http-equiv=\"Cont...   \n",
       "\n",
       "                                FILE_NAME  \n",
       "0  00249.5f45607c1bffe89f60ba1ec9f878039a  \n",
       "1  00373.ebe8670ac56b04125c25100a36ab0510  \n",
       "2  00214.1367039e50dc6b7adb0f2aa8aba83216  \n",
       "3  00210.050ffd105bd4e006771ee63cabc59978  \n",
       "4  00033.9babb58d9298daa2963d4f514193d7d6  \n",
       "5  00187.efd97ab2034b3384606e21db00014ecb  \n",
       "6  00500.85b72f09f6778a085dc8b6821965a76f  \n",
       "7  00493.1c5f59825f7a246187c137614fb1ea82  \n",
       "8  00012.381e4f512915109ba1e0853a7a8407b2  \n",
       "9  00487.139a2f4e8edbbdd64441536308169d74  "
      ]
     },
     "execution_count": 3,
     "metadata": {},
     "output_type": "execute_result"
    }
   ],
   "source": [
    "data.head(10)"
   ]
  },
  {
   "cell_type": "markdown",
   "metadata": {},
   "source": [
    "This is what the data looks like. It is important to have a look at the data before getting to analysis and prediction as it gives us an idea of what we are dealing with. "
   ]
  },
  {
   "cell_type": "code",
   "execution_count": 4,
   "metadata": {},
   "outputs": [
    {
     "data": {
      "text/plain": [
       "(5796, 3)"
      ]
     },
     "execution_count": 4,
     "metadata": {},
     "output_type": "execute_result"
    }
   ],
   "source": [
    "# Finding the number of rows and columns in the dataset\n",
    "data.shape"
   ]
  },
  {
   "cell_type": "code",
   "execution_count": 5,
   "metadata": {},
   "outputs": [
    {
     "data": {
      "text/plain": [
       "CATEGORY     0\n",
       "MESSAGE      0\n",
       "FILE_NAME    0\n",
       "dtype: int64"
      ]
     },
     "execution_count": 5,
     "metadata": {},
     "output_type": "execute_result"
    }
   ],
   "source": [
    "# Checking for null values\n",
    "data.isna().sum()"
   ]
  },
  {
   "cell_type": "markdown",
   "metadata": {},
   "source": [
    "There are no null values in the dataset, so we can proceed."
   ]
  },
  {
   "cell_type": "code",
   "execution_count": 6,
   "metadata": {},
   "outputs": [],
   "source": [
    "# We do not need the File name, so we can delete this column\n",
    "data = data.drop('FILE_NAME', axis = 1)"
   ]
  },
  {
   "cell_type": "code",
   "execution_count": 7,
   "metadata": {},
   "outputs": [
    {
     "name": "stdout",
     "output_type": "stream",
     "text": [
      "<class 'pandas.core.frame.DataFrame'>\n",
      "RangeIndex: 5796 entries, 0 to 5795\n",
      "Data columns (total 2 columns):\n",
      " #   Column    Non-Null Count  Dtype \n",
      "---  ------    --------------  ----- \n",
      " 0   CATEGORY  5796 non-null   int64 \n",
      " 1   MESSAGE   5796 non-null   object\n",
      "dtypes: int64(1), object(1)\n",
      "memory usage: 90.7+ KB\n"
     ]
    }
   ],
   "source": [
    "# Getting more information about the data\n",
    "data.info()"
   ]
  },
  {
   "cell_type": "code",
   "execution_count": 8,
   "metadata": {},
   "outputs": [
    {
     "data": {
      "image/png": "[encoded data removed]",
      "text/plain": [
       "<Figure size 360x360 with 1 Axes>"
      ]
     },
     "metadata": {},
     "output_type": "display_data"
    }
   ],
   "source": [
    "fig = plt.figure(figsize=(5, 5))\n",
    "labels = \"Legit\", \"Spam\"\n",
    "sizes = data[\"CATEGORY\"].value_counts()\n",
    "plt.pie(sizes, labels=labels, autopct=\"%1.1f%%\", shadow=True, startangle=90)\n",
    "plt.axis('equal')\n",
    "plt.show()"
   ]
  },
  {
   "cell_type": "code",
   "execution_count": 9,
   "metadata": {},
   "outputs": [
    {
     "data": {
      "text/plain": [
       "0    3900\n",
       "1    1896\n",
       "Name: CATEGORY, dtype: int64"
      ]
     },
     "execution_count": 9,
     "metadata": {},
     "output_type": "execute_result"
    }
   ],
   "source": [
    "data[\"CATEGORY\"].value_counts()"
   ]
  },
  {
   "cell_type": "markdown",
   "metadata": {},
   "source": [
    "This dataset contains 5796 raw text messages. It is not balanced as only 1896 out of 5796 texts are spam and 3900 are not spam. "
   ]
  },
  {
   "cell_type": "code",
   "execution_count": 10,
   "metadata": {},
   "outputs": [],
   "source": [
    "# Balancing the dataset\n",
    "spam = data.loc[data['CATEGORY'] == 1]\n",
    "notspam = data.loc[data['CATEGORY'] == 0]\n",
    "notspam = notspam.head(1896)"
   ]
  },
  {
   "cell_type": "code",
   "execution_count": 11,
   "metadata": {},
   "outputs": [
    {
     "name": "stdout",
     "output_type": "stream",
     "text": [
      "Number of messages:  3792\n"
     ]
    }
   ],
   "source": [
    "spam_bal = spam['MESSAGE'].to_numpy()\n",
    "notspam_bal = notspam['MESSAGE'].to_numpy()\n",
    "messages = np.concatenate((spam_bal, notspam_bal), axis = 0)\n",
    "print(\"Number of messages: \", len(messages))"
   ]
  },
  {
   "cell_type": "markdown",
   "metadata": {},
   "source": [
    "Now we have a balanced dataset, with equal number of spam and legit messages.   "
   ]
  },
  {
   "cell_type": "code",
   "execution_count": 12,
   "metadata": {},
   "outputs": [],
   "source": [
    "# make a numpy array representing labels of the messages\n",
    "labels = np.append(np.ones((len(notspam_bal))), np.zeros((len(spam_bal))))"
   ]
  },
  {
   "cell_type": "code",
   "execution_count": 13,
   "metadata": {},
   "outputs": [],
   "source": [
    "# Making the new dataframe which is balanced\n",
    "data_frame = pd.DataFrame({'CATEGORY': labels, 'MESSAGE': messages})"
   ]
  },
  {
   "cell_type": "markdown",
   "metadata": {},
   "source": [
    "### Cleaning the text\n",
    "I will now define a function that will help in standardizing the text(removing hyperlinks, converting to lower case, removing words that don't hold value, etc.)"
   ]
  },
  {
   "cell_type": "code",
   "execution_count": 14,
   "metadata": {},
   "outputs": [
    {
     "name": "stderr",
     "output_type": "stream",
     "text": [
      "[nltk_data] Downloading package stopwords to\n",
      "[nltk_data]     /Users/khannashivangi/nltk_data...\n",
      "[nltk_data]   Package stopwords is already up-to-date!\n"
     ]
    },
    {
     "data": {
      "text/plain": [
       "True"
      ]
     },
     "execution_count": 14,
     "metadata": {},
     "output_type": "execute_result"
    }
   ],
   "source": [
    "nltk.download('stopwords')"
   ]
  },
  {
   "cell_type": "code",
   "execution_count": 15,
   "metadata": {},
   "outputs": [],
   "source": [
    "stopwords_english = stopwords.words('english')"
   ]
  },
  {
   "cell_type": "code",
   "execution_count": 16,
   "metadata": {},
   "outputs": [],
   "source": [
    "def clean_text(text):\n",
    "    stemmer = SnowballStemmer(\"english\")\n",
    "    stopwords_english = stopwords.words('english')\n",
    "    soup = BeautifulSoup(text, \"html.parser\")\n",
    "    cleaned_text = soup.get_text()\n",
    "    words = word_tokenize(cleaned_text.lower())\n",
    "    words_clean = []\n",
    "    for word in words:\n",
    "        if (word not in stopwords_english and word.isalpha()):\n",
    "            stem_word = stemmer.stem(word)\n",
    "            words_clean.append(word)\n",
    "    return words_clean"
   ]
  },
  {
   "cell_type": "markdown",
   "metadata": {},
   "source": [
    "### MultinomialNB model\n",
    "The multinomial Naive Bayes classifier is suitable for this type of classification (word count for text classification). \n",
    "Since this model prefers numerical feature vectors with fixed size, I used the CountVectorizer to convert text into a matrix of token counts."
   ]
  },
  {
   "cell_type": "code",
   "execution_count": 17,
   "metadata": {},
   "outputs": [],
   "source": [
    "# Splitting the data into training set and test set\n",
    "train_x, test_x, train_y, test_y = train_test_split(data_frame['MESSAGE'], data_frame['CATEGORY'], test_size = 0.30, random_state = 88)"
   ]
  },
  {
   "cell_type": "code",
   "execution_count": 18,
   "metadata": {},
   "outputs": [],
   "source": [
    "vectorizer = CountVectorizer(stop_words = 'english', analyzer = clean_text)\n",
    "train_x_features = vectorizer.fit_transform(train_x)\n",
    "test_x_features = vectorizer.transform(test_x)"
   ]
  },
  {
   "cell_type": "code",
   "execution_count": 19,
   "metadata": {},
   "outputs": [
    {
     "data": {
      "text/plain": [
       "MultinomialNB()"
      ]
     },
     "execution_count": 19,
     "metadata": {},
     "output_type": "execute_result"
    }
   ],
   "source": [
    "classifier = MultinomialNB()\n",
    "classifier.fit(train_x_features,train_y)"
   ]
  },
  {
   "cell_type": "code",
   "execution_count": 20,
   "metadata": {},
   "outputs": [],
   "source": [
    "# Predicting if a mail is spam or legit on the test set\n",
    "yhat = classifier.predict(test_x_features)"
   ]
  },
  {
   "cell_type": "code",
   "execution_count": 21,
   "metadata": {},
   "outputs": [
    {
     "data": {
      "text/plain": [
       "0.9824253075571178"
      ]
     },
     "execution_count": 21,
     "metadata": {},
     "output_type": "execute_result"
    }
   ],
   "source": [
    "# Calculating the accuracy of the model\n",
    "metrics.accuracy_score(test_y, yhat)"
   ]
  },
  {
   "cell_type": "markdown",
   "metadata": {},
   "source": [
    "The accuracy of my model is **98.24%**, which is a really good number. "
   ]
  },
  {
   "cell_type": "markdown",
   "metadata": {},
   "source": [
    "### Confusion matrix\n",
    "[TN FP  \n",
    "FN TP]\n"
   ]
  },
  {
   "cell_type": "code",
   "execution_count": 22,
   "metadata": {},
   "outputs": [
    {
     "data": {
      "text/plain": [
       "array([[565,   5],\n",
       "       [ 15, 553]])"
      ]
     },
     "execution_count": 22,
     "metadata": {},
     "output_type": "execute_result"
    }
   ],
   "source": [
    "metrics.confusion_matrix(test_y, yhat)"
   ]
  },
  {
   "cell_type": "markdown",
   "metadata": {},
   "source": [
    "As we can see, there are 5 false positives(legit mail classified as spam) and 15 false negatives(spam mail classified as legit). "
   ]
  },
  {
   "cell_type": "code",
   "execution_count": 23,
   "metadata": {},
   "outputs": [
    {
     "data": {
      "text/plain": [
       "3517    URL: http://www.newsisfree.com/click/-1,817167...\n",
       "2593    All,\\n\\n\\n\\nIs it just me or has there been a ...\n",
       "2608    ok, if an email address is not in my whitelist...\n",
       "2319    Congrats, in the end...\\n\\n> \"If they didn't h...\n",
       "2246    URL: http://www.newsisfree.com/click/-5,853546...\n",
       "Name: MESSAGE, dtype: object"
      ]
     },
     "execution_count": 23,
     "metadata": {},
     "output_type": "execute_result"
    }
   ],
   "source": [
    "# Mails that were false positives\n",
    "test_x[yhat > test_y]"
   ]
  },
  {
   "cell_type": "code",
   "execution_count": 24,
   "metadata": {},
   "outputs": [
    {
     "data": {
      "text/plain": [
       "142     ÄúºÃ£º\\n\\n    Èç¹û´ËÐÅ´òÈÅµ½Äú£¬ÎÒÃÇÉî¸Ð±§Ç¸£¬...\n",
       "1883    PEhUTUw+PEhFQUQ+PFRJVExFPkV2IHlhcGltaSBhbWF09n...\n",
       "1652    \\n\\nSEE a Teen Farm Girl Do it with her horse ...\n",
       "853     NEW PRODUCT ANNOUNCEMENT\\n\\n\\n\\nFrom: OUTSOURC...\n",
       "783     <META HTTP-EQUIV=\"Content-Type\" CONTENT=\"text/...\n",
       "126     <HTML><HEAD>\\n\\n<META http-equiv=Content-Type ...\n",
       "264      \\n\\n\\n\\n                  Welcome to \"Ghetto\"...\n",
       "163     =3C!DOCTYPE HTML PUBLIC =22-=2F=2FW3C=2F=2FDTD...\n",
       "837     INSIGHT NEWS ALERT!\\n\\n\\n\\nA new issue of Insi...\n",
       "553     In 1957, a monastery in Thailand was being rel...\n",
       "1225    Hi Steph\\n\\n\\n\\n\\n\\nI have found the talent th...\n",
       "1683    This is a multi-part message in MIME format.\\n...\n",
       "621     1075RxOo9-26l11\\n\\n\\n\\nINCREASE YOUR GAS MILEA...\n",
       "45      PGh0bWw+DQo8aGVhZD4NCjxtZXRhIGh0dHAtZXF1aXY9Ik...\n",
       "238     >\\n\\n>µ×è¹µÑÇ ¡ÑºâÅ¡¸ØÃ¡Ô¨º¹ÍÔ¹àµÍÃìà¹çµ \\n\\...\n",
       "Name: MESSAGE, dtype: object"
      ]
     },
     "execution_count": 24,
     "metadata": {},
     "output_type": "execute_result"
    }
   ],
   "source": [
    "# Mails that were false negatives\n",
    "test_x[yhat < test_y]"
   ]
  },
  {
   "cell_type": "markdown",
   "metadata": {},
   "source": [
    "### Summary\n",
    "I was able to build a 98% accurate model. I used the CountVectorizer and MultinomialNB during this project."
   ]
  }
 ],
 "metadata": {
  "kernelspec": {
   "display_name": "Python 3",
   "language": "python",
   "name": "python3"
  },
  "language_info": {
   "codemirror_mode": {
    "name": "ipython",
    "version": 3
   },
   "file_extension": ".py",
   "mimetype": "text/x-python",
   "name": "python",
   "nbconvert_exporter": "python",
   "pygments_lexer": "ipython3",
   "version": "3.8.5"
  }
 },
 "nbformat": 4,
 "nbformat_minor": 4
}
